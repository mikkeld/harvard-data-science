{
 "cells": [
  {
   "cell_type": "code",
   "execution_count": 158,
   "metadata": {
    "collapsed": true
   },
   "outputs": [],
   "source": [
    "#https://github.com/cs109/2015lab2/blob/master/Lab2.ipynb\n",
    "\n",
    "import requests\n",
    "from bs4 import BeautifulSoup\n",
    "import seaborn as sns\n",
    "import matplotlib.pyplot as plt\n",
    "%matplotlib inline\n",
    "\n",
    "req = requests.get(\"https://en.wikipedia.org/wiki/Harvard_University\")\n",
    "page = req.text\n",
    "soup = BeautifulSoup(page, 'html.parser')"
   ]
  },
  {
   "cell_type": "code",
   "execution_count": 4,
   "metadata": {
    "collapsed": false
   },
   "outputs": [
    {
     "name": "stdout",
     "output_type": "stream",
     "text": [
      "<title>Harvard University - Wikipedia</title>\n"
     ]
    },
    {
     "data": {
      "text/plain": [
       "72"
      ]
     },
     "execution_count": 4,
     "metadata": {},
     "output_type": "execute_result"
    }
   ],
   "source": [
    "print(soup.title)\n",
    "len(soup.find_all('p'))\n"
   ]
  },
  {
   "cell_type": "code",
   "execution_count": 6,
   "metadata": {
    "collapsed": false
   },
   "outputs": [
    {
     "data": {
      "text/plain": [
       "['infobox', 'vcard']"
      ]
     },
     "execution_count": 6,
     "metadata": {},
     "output_type": "execute_result"
    }
   ],
   "source": [
    "soup.table[\"class\"]"
   ]
  },
  {
   "cell_type": "code",
   "execution_count": 9,
   "metadata": {
    "collapsed": false
   },
   "outputs": [
    {
     "data": {
      "text/plain": [
       "[['infobox', 'vcard'],\n",
       " ['toccolours'],\n",
       " ['plainlinks', 'metadata', 'ambox', 'mbox-small-left', 'ambox-content'],\n",
       " ['infobox'],\n",
       " ['wikitable'],\n",
       " ['nowraplinks', 'collapsible', 'collapsed', 'navbox-inner'],\n",
       " ['nowraplinks', 'navbox-subgroup'],\n",
       " ['nowraplinks', 'navbox-subgroup'],\n",
       " ['nowraplinks', 'collapsible', 'collapsed', 'navbox-inner'],\n",
       " ['nowraplinks', 'collapsible', 'autocollapse', 'navbox-inner'],\n",
       " ['nowraplinks', 'collapsible', 'autocollapse', 'navbox-inner'],\n",
       " ['nowraplinks', 'collapsible', 'autocollapse', 'navbox-inner'],\n",
       " ['nowraplinks', 'collapsible', 'autocollapse', 'navbox-inner'],\n",
       " ['nowraplinks', 'collapsible', 'autocollapse', 'navbox-inner'],\n",
       " ['nowraplinks', 'collapsible', 'autocollapse', 'navbox-inner'],\n",
       " ['nowraplinks', 'hlist', 'collapsible', 'autocollapse', 'navbox-inner'],\n",
       " ['nowraplinks', 'collapsible', 'autocollapse', 'navbox-inner'],\n",
       " ['nowraplinks', 'collapsible', 'autocollapse', 'navbox-inner'],\n",
       " ['nowraplinks', 'hlist', 'collapsible', 'autocollapse', 'navbox-inner'],\n",
       " ['nowraplinks', 'hlist', 'navbox-inner']]"
      ]
     },
     "execution_count": 9,
     "metadata": {},
     "output_type": "execute_result"
    }
   ],
   "source": [
    "all_table_classes = [t[\"class\"] for t in soup.find_all(\"table\") if t.get(\"class\")]\n",
    "all_table_classes"
   ]
  },
  {
   "cell_type": "code",
   "execution_count": 11,
   "metadata": {
    "collapsed": false
   },
   "outputs": [
    {
     "data": {
      "text/html": [
       "<table class=\"wikitable\" style=\"text-align:center; float:left; font-size:85%; margin-right:2em;\">\n",
       "<caption><i>Demographics of student body</i><sup class=\"reference\" id=\"cite_ref-Head_count_126-0\"><a href=\"#cite_note-Head_count-126\">[126]</a></sup><sup class=\"reference\" id=\"cite_ref-127\"><a href=\"#cite_note-127\">[127]</a></sup><sup class=\"reference\" id=\"cite_ref-128\"><a href=\"#cite_note-128\">[128]</a></sup></caption>\n",
       "<tr>\n",
       "<th></th>\n",
       "<th>Undergraduate</th>\n",
       "<th>Graduate<br/>\n",
       "and Professional</th>\n",
       "<th>U.S. Census</th>\n",
       "</tr>\n",
       "<tr>\n",
       "<th>Asian/Pacific Islander</th>\n",
       "<td>17%</td>\n",
       "<td>11%</td>\n",
       "<td>5%</td>\n",
       "</tr>\n",
       "<tr>\n",
       "<th>Black/Non-Hispanic</th>\n",
       "<td>6%</td>\n",
       "<td>4%</td>\n",
       "<td>12%</td>\n",
       "</tr>\n",
       "<tr>\n",
       "<th>Hispanics of any race</th>\n",
       "<td>9%</td>\n",
       "<td>5%</td>\n",
       "<td>16%</td>\n",
       "</tr>\n",
       "<tr>\n",
       "<th>White/non-Hispanic</th>\n",
       "<td>46%</td>\n",
       "<td>43%</td>\n",
       "<td>64%</td>\n",
       "</tr>\n",
       "<tr>\n",
       "<th>Mixed Race/Other</th>\n",
       "<td>10%</td>\n",
       "<td>8%</td>\n",
       "<td>9%</td>\n",
       "</tr>\n",
       "<tr>\n",
       "<th>International students</th>\n",
       "<td>11%</td>\n",
       "<td>27%</td>\n",
       "<td>N/A</td>\n",
       "</tr>\n",
       "</table>"
      ],
      "text/plain": [
       "<IPython.core.display.HTML object>"
      ]
     },
     "execution_count": 11,
     "metadata": {},
     "output_type": "execute_result"
    }
   ],
   "source": [
    "table_html = str(soup.find(\"table\", \"wikitable\"))\n",
    "from IPython.core.display import HTML\n",
    "\n",
    "HTML(table_html)"
   ]
  },
  {
   "cell_type": "code",
   "execution_count": 113,
   "metadata": {
    "collapsed": false
   },
   "outputs": [],
   "source": [
    "rows = [row for row in soup.find(\"table\", \"wikitable\").find_all(\"tr\")]\n",
    "rem_nl = lambda x: x.replace(\"\\n\", \" \")\n",
    "columns = [rem_nl(col.get_text()) for col in rows[0].find_all(\"th\") if col.get_text()]\n",
    "indexes = [row.find(\"th\").get_text() for row in rows[1:]]\n"
   ]
  },
  {
   "cell_type": "code",
   "execution_count": 100,
   "metadata": {
    "collapsed": false
   },
   "outputs": [
    {
     "data": {
      "text/plain": [
       "[17, 11, 5, 6, 4, 12, 9, 5, 16, 46, 43, 64, 10, 8, 9, 11, 27, None]"
      ]
     },
     "execution_count": 100,
     "metadata": {},
     "output_type": "execute_result"
    }
   ],
   "source": [
    "to_num = lambda s: s[-1] == \"%\" and int(s[:-1]) or None\n",
    "values = [to_num(value.get_text()) for row in rows[1:] for value in row.find_all(\"td\")]\n",
    "values"
   ]
  },
  {
   "cell_type": "code",
   "execution_count": 118,
   "metadata": {
    "collapsed": false
   },
   "outputs": [
    {
     "data": {
      "text/plain": [
       "<zip at 0x112e870c8>"
      ]
     },
     "execution_count": 118,
     "metadata": {},
     "output_type": "execute_result"
    }
   ],
   "source": [
    "stacked_values = zip(*[values[i::3] for i in range(len(cols))])\n",
    "stacked_values\n"
   ]
  },
  {
   "cell_type": "code",
   "execution_count": 160,
   "metadata": {
    "collapsed": false
   },
   "outputs": [
    {
     "data": {
      "text/plain": [
       "[{'Graduate and Professional': 11, 'U.S. Census': 5, 'Undergraduate': 17},\n",
       " {'Graduate and Professional': 4, 'U.S. Census': 12, 'Undergraduate': 6},\n",
       " {'Graduate and Professional': 5, 'U.S. Census': 16, 'Undergraduate': 9},\n",
       " {'Graduate and Professional': 43, 'U.S. Census': 64, 'Undergraduate': 46},\n",
       " {'Graduate and Professional': 8, 'U.S. Census': 9, 'Undergraduate': 10},\n",
       " {'Graduate and Professional': 27, 'U.S. Census': None, 'Undergraduate': 11}]"
      ]
     },
     "execution_count": 160,
     "metadata": {},
     "output_type": "execute_result"
    }
   ],
   "source": [
    "data_dict = [{col: val for col, val in zip(columns, value_groups)} for value_groups in stacked_values]\n",
    "data_dicts"
   ]
  },
  {
   "cell_type": "code",
   "execution_count": 123,
   "metadata": {
    "collapsed": false
   },
   "outputs": [
    {
     "data": {
      "text/html": [
       "<div>\n",
       "<table border=\"1\" class=\"dataframe\">\n",
       "  <thead>\n",
       "    <tr style=\"text-align: right;\">\n",
       "      <th></th>\n",
       "      <th>Graduate and Professional</th>\n",
       "      <th>U.S. Census</th>\n",
       "      <th>Undergraduate</th>\n",
       "    </tr>\n",
       "  </thead>\n",
       "  <tbody>\n",
       "    <tr>\n",
       "      <th>Asian/Pacific Islander</th>\n",
       "      <td>11</td>\n",
       "      <td>5.0</td>\n",
       "      <td>17</td>\n",
       "    </tr>\n",
       "    <tr>\n",
       "      <th>Black/Non-Hispanic</th>\n",
       "      <td>4</td>\n",
       "      <td>12.0</td>\n",
       "      <td>6</td>\n",
       "    </tr>\n",
       "    <tr>\n",
       "      <th>Hispanics of any race</th>\n",
       "      <td>5</td>\n",
       "      <td>16.0</td>\n",
       "      <td>9</td>\n",
       "    </tr>\n",
       "    <tr>\n",
       "      <th>White/non-Hispanic</th>\n",
       "      <td>43</td>\n",
       "      <td>64.0</td>\n",
       "      <td>46</td>\n",
       "    </tr>\n",
       "    <tr>\n",
       "      <th>Mixed Race/Other</th>\n",
       "      <td>8</td>\n",
       "      <td>9.0</td>\n",
       "      <td>10</td>\n",
       "    </tr>\n",
       "    <tr>\n",
       "      <th>International students</th>\n",
       "      <td>27</td>\n",
       "      <td>NaN</td>\n",
       "      <td>11</td>\n",
       "    </tr>\n",
       "  </tbody>\n",
       "</table>\n",
       "</div>"
      ],
      "text/plain": [
       "                        Graduate and Professional  U.S. Census  Undergraduate\n",
       "Asian/Pacific Islander                         11          5.0             17\n",
       "Black/Non-Hispanic                              4         12.0              6\n",
       "Hispanics of any race                           5         16.0              9\n",
       "White/non-Hispanic                             43         64.0             46\n",
       "Mixed Race/Other                                8          9.0             10\n",
       "International students                         27          NaN             11"
      ]
     },
     "execution_count": 123,
     "metadata": {},
     "output_type": "execute_result"
    }
   ],
   "source": [
    "import pandas as pd\n",
    "df = pd.DataFrame(data_dicts, index=indexes)\n",
    "df"
   ]
  },
  {
   "cell_type": "code",
   "execution_count": 125,
   "metadata": {
    "collapsed": false
   },
   "outputs": [],
   "source": [
    "df_clean = df.fillna(0).astype(int)"
   ]
  },
  {
   "cell_type": "code",
   "execution_count": 136,
   "metadata": {
    "collapsed": false
   },
   "outputs": [
    {
     "name": "stdout",
     "output_type": "stream",
     "text": [
      "16.5\n",
      "11\n",
      "Graduate and Professional    11\n",
      "U.S. Census                   5\n",
      "Undergraduate                17\n",
      "Name: Asian/Pacific Islander, dtype: int64\n"
     ]
    },
    {
     "data": {
      "text/plain": [
       "Graduate and Professional    16.333333\n",
       "U.S. Census                  17.666667\n",
       "Undergraduate                16.500000\n",
       "dtype: float64"
      ]
     },
     "execution_count": 136,
     "metadata": {},
     "output_type": "execute_result"
    }
   ],
   "source": [
    "import numpy as np\n",
    "df_clean.values\n",
    "\n",
    "print(df_clean.Undergraduate.mean())\n",
    "print(df_clean[\"Undergraduate\"][\"International students\"])\n",
    "print(df_clean.loc[\"Asian/Pacific Islander\"])\n",
    "df_clean.mean()"
   ]
  },
  {
   "cell_type": "code",
   "execution_count": 142,
   "metadata": {
    "collapsed": false
   },
   "outputs": [
    {
     "data": {
      "text/html": [
       "<div>\n",
       "<table border=\"1\" class=\"dataframe\">\n",
       "  <thead>\n",
       "    <tr style=\"text-align: right;\">\n",
       "      <th></th>\n",
       "      <th>race</th>\n",
       "      <th>source</th>\n",
       "      <th>percentage</th>\n",
       "    </tr>\n",
       "  </thead>\n",
       "  <tbody>\n",
       "    <tr>\n",
       "      <th>0</th>\n",
       "      <td>Asian/Pacific Islander</td>\n",
       "      <td>Graduate and Professional</td>\n",
       "      <td>11</td>\n",
       "    </tr>\n",
       "    <tr>\n",
       "      <th>1</th>\n",
       "      <td>Asian/Pacific Islander</td>\n",
       "      <td>U.S. Census</td>\n",
       "      <td>5</td>\n",
       "    </tr>\n",
       "    <tr>\n",
       "      <th>2</th>\n",
       "      <td>Asian/Pacific Islander</td>\n",
       "      <td>Undergraduate</td>\n",
       "      <td>17</td>\n",
       "    </tr>\n",
       "    <tr>\n",
       "      <th>3</th>\n",
       "      <td>Black/Non-Hispanic</td>\n",
       "      <td>Graduate and Professional</td>\n",
       "      <td>4</td>\n",
       "    </tr>\n",
       "    <tr>\n",
       "      <th>4</th>\n",
       "      <td>Black/Non-Hispanic</td>\n",
       "      <td>U.S. Census</td>\n",
       "      <td>12</td>\n",
       "    </tr>\n",
       "    <tr>\n",
       "      <th>5</th>\n",
       "      <td>Black/Non-Hispanic</td>\n",
       "      <td>Undergraduate</td>\n",
       "      <td>6</td>\n",
       "    </tr>\n",
       "    <tr>\n",
       "      <th>6</th>\n",
       "      <td>Hispanics of any race</td>\n",
       "      <td>Graduate and Professional</td>\n",
       "      <td>5</td>\n",
       "    </tr>\n",
       "    <tr>\n",
       "      <th>7</th>\n",
       "      <td>Hispanics of any race</td>\n",
       "      <td>U.S. Census</td>\n",
       "      <td>16</td>\n",
       "    </tr>\n",
       "    <tr>\n",
       "      <th>8</th>\n",
       "      <td>Hispanics of any race</td>\n",
       "      <td>Undergraduate</td>\n",
       "      <td>9</td>\n",
       "    </tr>\n",
       "    <tr>\n",
       "      <th>9</th>\n",
       "      <td>White/non-Hispanic</td>\n",
       "      <td>Graduate and Professional</td>\n",
       "      <td>43</td>\n",
       "    </tr>\n",
       "    <tr>\n",
       "      <th>10</th>\n",
       "      <td>White/non-Hispanic</td>\n",
       "      <td>U.S. Census</td>\n",
       "      <td>64</td>\n",
       "    </tr>\n",
       "    <tr>\n",
       "      <th>11</th>\n",
       "      <td>White/non-Hispanic</td>\n",
       "      <td>Undergraduate</td>\n",
       "      <td>46</td>\n",
       "    </tr>\n",
       "    <tr>\n",
       "      <th>12</th>\n",
       "      <td>Mixed Race/Other</td>\n",
       "      <td>Graduate and Professional</td>\n",
       "      <td>8</td>\n",
       "    </tr>\n",
       "    <tr>\n",
       "      <th>13</th>\n",
       "      <td>Mixed Race/Other</td>\n",
       "      <td>U.S. Census</td>\n",
       "      <td>9</td>\n",
       "    </tr>\n",
       "    <tr>\n",
       "      <th>14</th>\n",
       "      <td>Mixed Race/Other</td>\n",
       "      <td>Undergraduate</td>\n",
       "      <td>10</td>\n",
       "    </tr>\n",
       "    <tr>\n",
       "      <th>15</th>\n",
       "      <td>International students</td>\n",
       "      <td>Graduate and Professional</td>\n",
       "      <td>27</td>\n",
       "    </tr>\n",
       "    <tr>\n",
       "      <th>16</th>\n",
       "      <td>International students</td>\n",
       "      <td>U.S. Census</td>\n",
       "      <td>0</td>\n",
       "    </tr>\n",
       "    <tr>\n",
       "      <th>17</th>\n",
       "      <td>International students</td>\n",
       "      <td>Undergraduate</td>\n",
       "      <td>11</td>\n",
       "    </tr>\n",
       "  </tbody>\n",
       "</table>\n",
       "</div>"
      ],
      "text/plain": [
       "                      race                     source  percentage\n",
       "0   Asian/Pacific Islander  Graduate and Professional          11\n",
       "1   Asian/Pacific Islander                U.S. Census           5\n",
       "2   Asian/Pacific Islander              Undergraduate          17\n",
       "3       Black/Non-Hispanic  Graduate and Professional           4\n",
       "4       Black/Non-Hispanic                U.S. Census          12\n",
       "5       Black/Non-Hispanic              Undergraduate           6\n",
       "6    Hispanics of any race  Graduate and Professional           5\n",
       "7    Hispanics of any race                U.S. Census          16\n",
       "8    Hispanics of any race              Undergraduate           9\n",
       "9       White/non-Hispanic  Graduate and Professional          43\n",
       "10      White/non-Hispanic                U.S. Census          64\n",
       "11      White/non-Hispanic              Undergraduate          46\n",
       "12        Mixed Race/Other  Graduate and Professional           8\n",
       "13        Mixed Race/Other                U.S. Census           9\n",
       "14        Mixed Race/Other              Undergraduate          10\n",
       "15  International students  Graduate and Professional          27\n",
       "16  International students                U.S. Census           0\n",
       "17  International students              Undergraduate          11"
      ]
     },
     "execution_count": 142,
     "metadata": {},
     "output_type": "execute_result"
    }
   ],
   "source": [
    "df_flat = df_clean.stack().reset_index()\n",
    "df_flat.columns = [\"race\", \"source\", \"percentage\"]\n",
    "df_flat"
   ]
  },
  {
   "cell_type": "code",
   "execution_count": 153,
   "metadata": {
    "collapsed": false
   },
   "outputs": [
    {
     "data": {
      "text/plain": [
       "<pandas.core.groupby.DataFrameGroupBy object at 0x11301b080>"
      ]
     },
     "execution_count": 153,
     "metadata": {},
     "output_type": "execute_result"
    }
   ],
   "source": [
    "grouped = df_flat.groupby(\"race\")\n",
    "grouped"
   ]
  },
  {
   "cell_type": "code",
   "execution_count": 154,
   "metadata": {
    "collapsed": false
   },
   "outputs": [
    {
     "name": "stdout",
     "output_type": "stream",
     "text": [
      "Asian/Pacific Islander\n",
      "                     race                     source  percentage\n",
      "0  Asian/Pacific Islander  Graduate and Professional          11\n",
      "1  Asian/Pacific Islander                U.S. Census           5\n",
      "2  Asian/Pacific Islander              Undergraduate          17\n",
      "Black/Non-Hispanic\n",
      "                 race                     source  percentage\n",
      "3  Black/Non-Hispanic  Graduate and Professional           4\n",
      "4  Black/Non-Hispanic                U.S. Census          12\n",
      "5  Black/Non-Hispanic              Undergraduate           6\n",
      "Hispanics of any race\n",
      "                    race                     source  percentage\n",
      "6  Hispanics of any race  Graduate and Professional           5\n",
      "7  Hispanics of any race                U.S. Census          16\n",
      "8  Hispanics of any race              Undergraduate           9\n",
      "International students\n",
      "                      race                     source  percentage\n",
      "15  International students  Graduate and Professional          27\n",
      "16  International students                U.S. Census           0\n",
      "17  International students              Undergraduate          11\n",
      "Mixed Race/Other\n",
      "                race                     source  percentage\n",
      "12  Mixed Race/Other  Graduate and Professional           8\n",
      "13  Mixed Race/Other                U.S. Census           9\n",
      "14  Mixed Race/Other              Undergraduate          10\n",
      "White/non-Hispanic\n",
      "                  race                     source  percentage\n",
      "9   White/non-Hispanic  Graduate and Professional          43\n",
      "10  White/non-Hispanic                U.S. Census          64\n",
      "11  White/non-Hispanic              Undergraduate          46\n"
     ]
    }
   ],
   "source": [
    "for group, percentage in grouped:\n",
    "    print(group)\n",
    "    print(percentage)"
   ]
  },
  {
   "cell_type": "code",
   "execution_count": 159,
   "metadata": {
    "collapsed": false
   },
   "outputs": [
    {
     "data": {
      "text/plain": [
       "<matplotlib.axes._subplots.AxesSubplot at 0x119e50f60>"
      ]
     },
     "execution_count": 159,
     "metadata": {},
     "output_type": "execute_result"
    },
    {
     "data": {
      "image/png": "[encoded data removed]",
      "text/plain": [
       "<matplotlib.figure.Figure at 0x107c1e320>"
      ]
     },
     "metadata": {},
     "output_type": "display_data"
    }
   ],
   "source": [
    "mean = grouped.mean()\n",
    "mean.plot(kind=\"bar\")"
   ]
  }
 ],
 "metadata": {
  "kernelspec": {
   "display_name": "Python [default]",
   "language": "python",
   "name": "python3"
  },
  "language_info": {
   "codemirror_mode": {
    "name": "ipython",
    "version": 3
   },
   "file_extension": ".py",
   "mimetype": "text/x-python",
   "name": "python",
   "nbconvert_exporter": "python",
   "pygments_lexer": "ipython3",
   "version": "3.5.2"
  }
 },
 "nbformat": 4,
 "nbformat_minor": 2
}
